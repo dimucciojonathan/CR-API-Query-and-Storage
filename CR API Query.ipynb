{
 "cells": [
  {
   "cell_type": "code",
   "execution_count": 1,
   "metadata": {},
   "outputs": [],
   "source": [
    "import urllib.request\n",
    "import json\n",
    "import csv"
   ]
  },
  {
   "cell_type": "code",
   "execution_count": 2,
   "metadata": {},
   "outputs": [],
   "source": [
    "# CSV Writer\n",
    "def individual_member_info_generator(memberTag):\n",
    "    with open(\"clashkey.txt\") as f:\n",
    "        with open('member.csv', 'w', newline='') as i:\n",
    "            my_key = f.read().rstrip(\"\\n\")\n",
    "            base_url = \"https://api.clashroyale.com/v1\"\n",
    "            thewriter = csv.writer(i)\n",
    "            thewriter.writerow(['Name', 'Tag', 'Trophies', 'Wins', 'Losses', 'Challenge Cards Won', 'Challenge Max Wins',\n",
    "                                'Donations', 'Donations Received', 'War Day Wins', 'Clan Cards Collected'])\n",
    "\n",
    "            # CSV File Entry, Get information about each member then add to CSV\n",
    "            # the member JSON has more info than the clan details, so I need another request\n",
    "\n",
    "            member_endpoint = \"/players/%23\" + str(memberTag)\n",
    "            request2 = urllib.request.Request(\n",
    "                base_url + member_endpoint,\n",
    "                None,\n",
    "                {\n",
    "                    \"Authorization\": \"Bearer %s\" % my_key\n",
    "                }\n",
    "            )\n",
    "            member_response = urllib.request.urlopen(request2).read().decode(\"utf-8\")\n",
    "            member_data = json.loads(member_response)\n",
    "            # I got an error for one member, so I used try/except to keep the code going.\n",
    "            try:\n",
    "                thewriter.writerow([member_data[\"name\"], member_data[\"tag\"], member_data[\"trophies\"],\n",
    "                                    member_data[\"wins\"], member_data[\"losses\"], member_data[\"challengeCardsWon\"],\n",
    "                                    member_data[\"challengeMaxWins\"], member_data[\"donations\"],\n",
    "                                    member_data[\"donationsReceived\"], member_data[\"warDayWins\"],\n",
    "                                    member_data[\"clanCardsCollected\"],\n",
    "                                    ])\n",
    "\n",
    "            except:\n",
    "                pass"
   ]
  },
  {
   "cell_type": "code",
   "execution_count": null,
   "metadata": {},
   "outputs": [],
   "source": [
    "# New function that saves data to a CSV\n",
    "def player_info(memberTag):\n",
    "    # Keeps authentication key open for each transaction\n",
    "    with open(\"clashkey.txt\") as f:\n",
    "        # Define key and base API URL\n",
    "        my_key = f.read().rstrip(\"\\n\")\n",
    "        base_url = \"https://api.clashroyale.com/v1\"\n",
    "        # Index row\n",
    "        index = ['Name', 'Tag', 'Trophies', 'Wins', 'Losses', 'Challenge Cards Won', 'Challenge Max Wins',\n",
    "                            'Donations', 'Donations Received', 'War Day Wins', 'Clan Cards Collected']\n",
    "\n",
    "        # member_data loads all the information we will need in JSON format\n",
    "        member_endpoint = \"/players/%23\" + str(memberTag)\n",
    "        request2 = urllib.request.Request(\n",
    "            base_url + member_endpoint,\n",
    "            None,\n",
    "            {\n",
    "                \"Authorization\": \"Bearer %s\" % my_key\n",
    "            }\n",
    "        )\n",
    "        member_response = urllib.request.urlopen(request2).read().decode(\"utf-8\")\n",
    "        member_data = json.loads(member_response)\n",
    "        # Try / Except to ignore errors. Needs to be debugged\n",
    "        try:\n",
    "            thewriter.writerow([member_data[\"name\"], member_data[\"tag\"], member_data[\"trophies\"],\n",
    "                                member_data[\"wins\"], member_data[\"losses\"], member_data[\"challengeCardsWon\"],\n",
    "                                member_data[\"challengeMaxWins\"], member_data[\"donations\"],\n",
    "                                member_data[\"donationsReceived\"], member_data[\"warDayWins\"],\n",
    "                                member_data[\"clanCardsCollected\"],\n",
    "                                ])\n",
    "\n",
    "        except:\n",
    "            pass"
   ]
  }
 ],
 "metadata": {
  "kernelspec": {
   "display_name": "Python 3",
   "language": "python",
   "name": "python3"
  },
  "language_info": {
   "codemirror_mode": {
    "name": "ipython",
    "version": 3
   },
   "file_extension": ".py",
   "mimetype": "text/x-python",
   "name": "python",
   "nbconvert_exporter": "python",
   "pygments_lexer": "ipython3",
   "version": "3.7.4"
  }
 },
 "nbformat": 4,
 "nbformat_minor": 2
}
